{
  "nbformat": 4,
  "nbformat_minor": 0,
  "metadata": {
    "colab": {
      "name": "Copy of Assignment_3_EDA.ipynb",
      "version": "0.3.2",
      "provenance": [],
      "include_colab_link": true
    },
    "language_info": {
      "codemirror_mode": {
        "name": "ipython",
        "version": 3
      },
      "file_extension": ".py",
      "mimetype": "text/x-python",
      "name": "python",
      "nbconvert_exporter": "python",
      "pygments_lexer": "ipython3",
      "version": "3.6.5"
    },
    "kernelspec": {
      "display_name": "Python 3",
      "language": "python",
      "name": "python3"
    }
  },
  "cells": [
    {
      "cell_type": "markdown",
      "metadata": {
        "id": "view-in-github",
        "colab_type": "text"
      },
      "source": [
        "<a href=\"https://colab.research.google.com/github/ZebelEmp/DevC_Assignment/blob/master/Copy_of_Assignment_3_EDA.ipynb\" target=\"_parent\"><img src=\"https://colab.research.google.com/assets/colab-badge.svg\" alt=\"Open In Colab\"/></a>"
      ]
    },
    {
      "cell_type": "markdown",
      "metadata": {
        "id": "x7fdTGs4SnyS",
        "colab_type": "text"
      },
      "source": [
        "![](https://i.imgur.com/0AUxkXt.png)"
      ]
    },
    {
      "cell_type": "markdown",
      "metadata": {
        "id": "_uqy69P0Pm0L",
        "colab_type": "text"
      },
      "source": [
        "# Assignment 3 - From data to insights\n",
        "\n",
        "Before you explore the data, write down a short list of what you expect to see in the data: the distribution of key variables, the relationships between important pairs of them, and so on. Such a list is essentially a prediction based on your current understanding of the business.\n",
        "\n",
        "Now analyze the data. Make plots, do summaries, whatever is needed to see if it matches your expectations.\n",
        "\n",
        "Is there anything that doesn’t match? Anything that makes you go “That’s odd” or “That doesn’t make any sense.”?\n",
        "\n",
        "Zoom in and try to understand what in your business is making that weird thing show up in the data like that. This is the critical step.\n",
        "\n",
        "You may have just found an insight into the business and increased your understanding\n",
        "\n",
        "\n",
        "## The data analysis checklist\n",
        "\n",
        "This checklist can be used as a guide during the process of a data analysis, or as a way to evaluate the quality of a reported data analysis.\n",
        "\n",
        "### Answering the first questions\n",
        "\n",
        "1. Did you define the metric for success before beginning?\n",
        "2. Did you understand the context for the question and business application?\n",
        "3. Did you consider whether the question could be answered with the available data?\n",
        "\n",
        "### Cleaning the data\n",
        "\n",
        "1. Did you identify the missing data?\n",
        "2. Is each variable one column?\n",
        "3. Do different data types appear in each table?\n",
        "4. Did you try to identify any errors or miscoding of variables?\n",
        "5. Did you check for outliers?\n",
        "\n",
        "### Exploratory analysis\n",
        "\n",
        "1. Did you make univariate plots (histogram, distplot, boxplot)?\n",
        "2. Did you consider correlations between variables (scatterplot, jointplot, kde plot, correlation matrix)?\n",
        "3. Did you check the units of all data points to make sure they are in the right range?\n",
        "\n",
        "### Presentations\n",
        "\n",
        "1. Did you lead with a brief, understandable to everyone of your problem?\n",
        "2. Did you explain the data, describe the question of interest?\n",
        "3. Did you make sure all legends and axes were legible from the back of the room?"
      ]
    },
    {
      "cell_type": "markdown",
      "metadata": {
        "id": "ZBc0glanPm0M",
        "colab_type": "text"
      },
      "source": [
        "## Dataset - Online Retailes Purchase\n",
        "\n",
        "Typically e-commerce datasets are proprietary and consequently hard to find among publicly available data. However, [The UCI Machine Learning Repository](http://archive.ics.uci.edu/ml/index.php) has made this dataset containing actual transactions from 2010 and 2011. The dataset is maintained on their site, where it can be found by the title \"Online Retail\".\n",
        "\n",
        "\n",
        "### Step 1 - Checking the data\n",
        "\n",
        "**Import tools set**"
      ]
    },
    {
      "cell_type": "code",
      "metadata": {
        "id": "9Cx3LXxfPm0N",
        "colab_type": "code",
        "colab": {}
      },
      "source": [
        "# Your code here\n",
        "import numpy as np\n",
        "import pandas as pd\n",
        "import seaborn as sns\n",
        "import matplotlib.pyplot as plt\n",
        "%matplotlib inline\n",
        "\n",
        "\n",
        "sns.set_style(\"whitegrid\")"
      ],
      "execution_count": 0,
      "outputs": []
    },
    {
      "cell_type": "markdown",
      "metadata": {
        "id": "mFTQu0j6Pm0Q",
        "colab_type": "text"
      },
      "source": [
        "**Import data**"
      ]
    },
    {
      "cell_type": "code",
      "metadata": {
        "id": "w0YVchrVPm0R",
        "colab_type": "code",
        "colab": {}
      },
      "source": [
        "link = \"https://ml101-khanhnguyen.s3-ap-southeast-1.amazonaws.com/devc/Online_Retail.csv\"\n",
        "# Note: set param encoding = 'latin1'\n",
        "# Your code here\n",
        "df = pd.read_csv(link, encoding = 'latin1')"
      ],
      "execution_count": 0,
      "outputs": []
    },
    {
      "cell_type": "code",
      "metadata": {
        "id": "V3v8D3pTFrYh",
        "colab_type": "code",
        "outputId": "2629700f-0991-4c20-a2c0-52cedf85597d",
        "colab": {
          "base_uri": "https://localhost:8080/",
          "height": 204
        }
      },
      "source": [
        "# Print out First 5 rows from dataframe\n",
        "# Your code here\n",
        "df.head(5)"
      ],
      "execution_count": 3,
      "outputs": [
        {
          "output_type": "execute_result",
          "data": {
            "text/html": [
              "<div>\n",
              "<style scoped>\n",
              "    .dataframe tbody tr th:only-of-type {\n",
              "        vertical-align: middle;\n",
              "    }\n",
              "\n",
              "    .dataframe tbody tr th {\n",
              "        vertical-align: top;\n",
              "    }\n",
              "\n",
              "    .dataframe thead th {\n",
              "        text-align: right;\n",
              "    }\n",
              "</style>\n",
              "<table border=\"1\" class=\"dataframe\">\n",
              "  <thead>\n",
              "    <tr style=\"text-align: right;\">\n",
              "      <th></th>\n",
              "      <th>InvoiceNo</th>\n",
              "      <th>StockCode</th>\n",
              "      <th>Description</th>\n",
              "      <th>Quantity</th>\n",
              "      <th>InvoiceDate</th>\n",
              "      <th>UnitPrice</th>\n",
              "      <th>CustomerID</th>\n",
              "      <th>Country</th>\n",
              "    </tr>\n",
              "  </thead>\n",
              "  <tbody>\n",
              "    <tr>\n",
              "      <th>0</th>\n",
              "      <td>536365</td>\n",
              "      <td>85123A</td>\n",
              "      <td>WHITE HANGING HEART T-LIGHT HOLDER</td>\n",
              "      <td>6</td>\n",
              "      <td>12/1/10 8:26</td>\n",
              "      <td>2.55</td>\n",
              "      <td>17850.0</td>\n",
              "      <td>United Kingdom</td>\n",
              "    </tr>\n",
              "    <tr>\n",
              "      <th>1</th>\n",
              "      <td>536365</td>\n",
              "      <td>71053</td>\n",
              "      <td>WHITE METAL LANTERN</td>\n",
              "      <td>6</td>\n",
              "      <td>12/1/10 8:26</td>\n",
              "      <td>3.39</td>\n",
              "      <td>17850.0</td>\n",
              "      <td>United Kingdom</td>\n",
              "    </tr>\n",
              "    <tr>\n",
              "      <th>2</th>\n",
              "      <td>536365</td>\n",
              "      <td>84406B</td>\n",
              "      <td>CREAM CUPID HEARTS COAT HANGER</td>\n",
              "      <td>8</td>\n",
              "      <td>12/1/10 8:26</td>\n",
              "      <td>2.75</td>\n",
              "      <td>17850.0</td>\n",
              "      <td>United Kingdom</td>\n",
              "    </tr>\n",
              "    <tr>\n",
              "      <th>3</th>\n",
              "      <td>536365</td>\n",
              "      <td>84029G</td>\n",
              "      <td>KNITTED UNION FLAG HOT WATER BOTTLE</td>\n",
              "      <td>6</td>\n",
              "      <td>12/1/10 8:26</td>\n",
              "      <td>3.39</td>\n",
              "      <td>17850.0</td>\n",
              "      <td>United Kingdom</td>\n",
              "    </tr>\n",
              "    <tr>\n",
              "      <th>4</th>\n",
              "      <td>536365</td>\n",
              "      <td>84029E</td>\n",
              "      <td>RED WOOLLY HOTTIE WHITE HEART.</td>\n",
              "      <td>6</td>\n",
              "      <td>12/1/10 8:26</td>\n",
              "      <td>3.39</td>\n",
              "      <td>17850.0</td>\n",
              "      <td>United Kingdom</td>\n",
              "    </tr>\n",
              "  </tbody>\n",
              "</table>\n",
              "</div>"
            ],
            "text/plain": [
              "  InvoiceNo StockCode  ... CustomerID         Country\n",
              "0    536365    85123A  ...    17850.0  United Kingdom\n",
              "1    536365     71053  ...    17850.0  United Kingdom\n",
              "2    536365    84406B  ...    17850.0  United Kingdom\n",
              "3    536365    84029G  ...    17850.0  United Kingdom\n",
              "4    536365    84029E  ...    17850.0  United Kingdom\n",
              "\n",
              "[5 rows x 8 columns]"
            ]
          },
          "metadata": {
            "tags": []
          },
          "execution_count": 3
        }
      ]
    },
    {
      "cell_type": "code",
      "metadata": {
        "id": "u4Msf54uFy4w",
        "colab_type": "code",
        "outputId": "0b12d351-5797-49ca-ce15-1c5fb18caebe",
        "colab": {
          "base_uri": "https://localhost:8080/",
          "height": 238
        }
      },
      "source": [
        "# Print out brief info\n",
        "df.info()"
      ],
      "execution_count": 4,
      "outputs": [
        {
          "output_type": "stream",
          "text": [
            "<class 'pandas.core.frame.DataFrame'>\n",
            "RangeIndex: 541909 entries, 0 to 541908\n",
            "Data columns (total 8 columns):\n",
            "InvoiceNo      541909 non-null object\n",
            "StockCode      541909 non-null object\n",
            "Description    540455 non-null object\n",
            "Quantity       541909 non-null int64\n",
            "InvoiceDate    541909 non-null object\n",
            "UnitPrice      541909 non-null float64\n",
            "CustomerID     406829 non-null float64\n",
            "Country        541909 non-null object\n",
            "dtypes: float64(2), int64(1), object(5)\n",
            "memory usage: 33.1+ MB\n"
          ],
          "name": "stdout"
        }
      ]
    },
    {
      "cell_type": "markdown",
      "metadata": {
        "id": "wY6yv3UsPm0k",
        "colab_type": "text"
      },
      "source": [
        "### Step 2 - Cleaning the data\n",
        "\n",
        "Few of useful data cleaning functions:\n",
        "\n",
        "* `s.astype('category')` # This will convert the datatype of the series to float *Please note that \"s\" here is a Pandas Series\n",
        "\n",
        "* `s.replace(1,'one')` # This will replace all values equal to 1 with 'one'\n",
        "\n",
        "* `s.replace([1,3],['one','three'])` # This will replace all 1 with 'one' and 3 with 'three'\n",
        "\n",
        "* `data.rename(columns=lambda x: x + 1)` # Mass renaming of columns\n",
        "\n",
        "* `data.rename(columns={'oldname': 'new name'})` # Selective renaming\n",
        "\n",
        "* `data.set_index('column_one')` #  This will change the index\n",
        "\n",
        "* `data.rename(index=lambda x: x + 1)` # Mass renaming of index\n",
        "\n",
        "* `data.dropna()` # Remove missing values\n",
        "\n",
        "* `data.fillna(x)` #  This will replaces all null values with x\n",
        "\n",
        "* `s.fillna(s.mean())` # This will replace all null values with the mean (mean can be replaced with almost any function from the below section) :\n",
        "\n",
        "* `data.corr()` # This will return the correlation between columns in a DataFrame\n",
        "\n",
        "* `data.count()` # This will return the number of non-null values in each DataFrame column\n",
        "\n",
        "* `data.max()` # This will return the highest value in each column\n",
        "\n",
        "* `data.min()` # This will return the lowest value in each column\n",
        "\n",
        "* `data.median()` # This will return the median of each column\n",
        "\n",
        "* `data.std()` # This will returns the standard deviation of each column\n"
      ]
    },
    {
      "cell_type": "markdown",
      "metadata": {
        "id": "rcNsGWarPm06",
        "colab_type": "text"
      },
      "source": [
        "**Check for NaN values**"
      ]
    },
    {
      "cell_type": "code",
      "metadata": {
        "id": "TqLxHGy2Pm06",
        "colab_type": "code",
        "outputId": "15aa94eb-2db1-43eb-90d5-2abe31b43066",
        "colab": {
          "base_uri": "https://localhost:8080/",
          "height": 170
        }
      },
      "source": [
        "# Your code here\n",
        "df.isna().sum()"
      ],
      "execution_count": 5,
      "outputs": [
        {
          "output_type": "execute_result",
          "data": {
            "text/plain": [
              "InvoiceNo           0\n",
              "StockCode           0\n",
              "Description      1454\n",
              "Quantity            0\n",
              "InvoiceDate         0\n",
              "UnitPrice           0\n",
              "CustomerID     135080\n",
              "Country             0\n",
              "dtype: int64"
            ]
          },
          "metadata": {
            "tags": []
          },
          "execution_count": 5
        }
      ]
    },
    {
      "cell_type": "markdown",
      "metadata": {
        "id": "RdhPk_x1Pm0-",
        "colab_type": "text"
      },
      "source": [
        "**Examine few examples of NaN values**"
      ]
    },
    {
      "cell_type": "code",
      "metadata": {
        "id": "3kGYpbdOPm0-",
        "colab_type": "code",
        "outputId": "792711b9-4260-4595-c236-886468af782b",
        "colab": {
          "base_uri": "https://localhost:8080/",
          "height": 204
        }
      },
      "source": [
        "# List all NaN values\n",
        "df[(df['Description'].isnull()) | df['CustomerID'].isnull()].sample(5)"
      ],
      "execution_count": 6,
      "outputs": [
        {
          "output_type": "execute_result",
          "data": {
            "text/html": [
              "<div>\n",
              "<style scoped>\n",
              "    .dataframe tbody tr th:only-of-type {\n",
              "        vertical-align: middle;\n",
              "    }\n",
              "\n",
              "    .dataframe tbody tr th {\n",
              "        vertical-align: top;\n",
              "    }\n",
              "\n",
              "    .dataframe thead th {\n",
              "        text-align: right;\n",
              "    }\n",
              "</style>\n",
              "<table border=\"1\" class=\"dataframe\">\n",
              "  <thead>\n",
              "    <tr style=\"text-align: right;\">\n",
              "      <th></th>\n",
              "      <th>InvoiceNo</th>\n",
              "      <th>StockCode</th>\n",
              "      <th>Description</th>\n",
              "      <th>Quantity</th>\n",
              "      <th>InvoiceDate</th>\n",
              "      <th>UnitPrice</th>\n",
              "      <th>CustomerID</th>\n",
              "      <th>Country</th>\n",
              "    </tr>\n",
              "  </thead>\n",
              "  <tbody>\n",
              "    <tr>\n",
              "      <th>234243</th>\n",
              "      <td>557502</td>\n",
              "      <td>22489</td>\n",
              "      <td>PACK OF 12 TRADITIONAL CRAYONS</td>\n",
              "      <td>1</td>\n",
              "      <td>6/20/11 15:32</td>\n",
              "      <td>0.83</td>\n",
              "      <td>NaN</td>\n",
              "      <td>United Kingdom</td>\n",
              "    </tr>\n",
              "    <tr>\n",
              "      <th>474520</th>\n",
              "      <td>576840</td>\n",
              "      <td>47591D</td>\n",
              "      <td>PINK FAIRY CAKE CHILDRENS APRON</td>\n",
              "      <td>1</td>\n",
              "      <td>11/16/11 15:23</td>\n",
              "      <td>4.13</td>\n",
              "      <td>NaN</td>\n",
              "      <td>United Kingdom</td>\n",
              "    </tr>\n",
              "    <tr>\n",
              "      <th>470711</th>\n",
              "      <td>576618</td>\n",
              "      <td>22263</td>\n",
              "      <td>FELT EGG COSY LADYBIRD</td>\n",
              "      <td>3</td>\n",
              "      <td>11/15/11 17:00</td>\n",
              "      <td>1.63</td>\n",
              "      <td>NaN</td>\n",
              "      <td>United Kingdom</td>\n",
              "    </tr>\n",
              "    <tr>\n",
              "      <th>209932</th>\n",
              "      <td>555275</td>\n",
              "      <td>20711</td>\n",
              "      <td>JUMBO BAG TOYS</td>\n",
              "      <td>2</td>\n",
              "      <td>6/1/11 17:18</td>\n",
              "      <td>4.13</td>\n",
              "      <td>NaN</td>\n",
              "      <td>United Kingdom</td>\n",
              "    </tr>\n",
              "    <tr>\n",
              "      <th>264282</th>\n",
              "      <td>560090</td>\n",
              "      <td>22375</td>\n",
              "      <td>AIRLINE BAG VINTAGE JET SET BROWN</td>\n",
              "      <td>1</td>\n",
              "      <td>7/14/11 16:46</td>\n",
              "      <td>4.13</td>\n",
              "      <td>NaN</td>\n",
              "      <td>United Kingdom</td>\n",
              "    </tr>\n",
              "  </tbody>\n",
              "</table>\n",
              "</div>"
            ],
            "text/plain": [
              "       InvoiceNo StockCode  ... CustomerID         Country\n",
              "234243    557502     22489  ...        NaN  United Kingdom\n",
              "474520    576840    47591D  ...        NaN  United Kingdom\n",
              "470711    576618     22263  ...        NaN  United Kingdom\n",
              "209932    555275     20711  ...        NaN  United Kingdom\n",
              "264282    560090     22375  ...        NaN  United Kingdom\n",
              "\n",
              "[5 rows x 8 columns]"
            ]
          },
          "metadata": {
            "tags": []
          },
          "execution_count": 6
        }
      ]
    },
    {
      "cell_type": "markdown",
      "metadata": {
        "id": "OpAhltPeHaLR",
        "colab_type": "text"
      },
      "source": [
        "**Exclude negative Quatity entries**"
      ]
    },
    {
      "cell_type": "code",
      "metadata": {
        "id": "71F-5PY-HZ6T",
        "colab_type": "code",
        "colab": {}
      },
      "source": [
        "df = df[df['Quantity'] >= 0]"
      ],
      "execution_count": 0,
      "outputs": []
    },
    {
      "cell_type": "markdown",
      "metadata": {
        "id": "s5idc5z2H1zJ",
        "colab_type": "text"
      },
      "source": [
        "**Exclude negative Price entries**"
      ]
    },
    {
      "cell_type": "code",
      "metadata": {
        "id": "_8OdtEVFH1fr",
        "colab_type": "code",
        "colab": {}
      },
      "source": [
        "df = df[df['UnitPrice'] >= 0]"
      ],
      "execution_count": 0,
      "outputs": []
    },
    {
      "cell_type": "markdown",
      "metadata": {
        "id": "Ikd1t-v3Pm17",
        "colab_type": "text"
      },
      "source": [
        "### Step 3 - EDA"
      ]
    },
    {
      "cell_type": "markdown",
      "metadata": {
        "id": "-T3iojz1If_r",
        "colab_type": "text"
      },
      "source": [
        "**The customer with the highest number of orders comes from the United Kingdom (UK)**"
      ]
    },
    {
      "cell_type": "code",
      "metadata": {
        "id": "qIUoWtlPIhxJ",
        "colab_type": "code",
        "outputId": "759c93ac-e279-4d4d-dceb-35a37f57506c",
        "colab": {
          "base_uri": "https://localhost:8080/",
          "height": 1000
        }
      },
      "source": [
        "# Your code here\n",
        "highest_id = df[df['Country'] == 'United Kingdom']['CustomerID'].value_counts().head(1).index\n",
        "#highest_id = highest_id.astype('float')\n",
        "highest_id = highest_id.values[0]\n",
        "df[df['CustomerID'] == highest_id]"
      ],
      "execution_count": 10,
      "outputs": [
        {
          "output_type": "execute_result",
          "data": {
            "text/html": [
              "<div>\n",
              "<style scoped>\n",
              "    .dataframe tbody tr th:only-of-type {\n",
              "        vertical-align: middle;\n",
              "    }\n",
              "\n",
              "    .dataframe tbody tr th {\n",
              "        vertical-align: top;\n",
              "    }\n",
              "\n",
              "    .dataframe thead th {\n",
              "        text-align: right;\n",
              "    }\n",
              "</style>\n",
              "<table border=\"1\" class=\"dataframe\">\n",
              "  <thead>\n",
              "    <tr style=\"text-align: right;\">\n",
              "      <th></th>\n",
              "      <th>InvoiceNo</th>\n",
              "      <th>StockCode</th>\n",
              "      <th>Description</th>\n",
              "      <th>Quantity</th>\n",
              "      <th>InvoiceDate</th>\n",
              "      <th>UnitPrice</th>\n",
              "      <th>CustomerID</th>\n",
              "      <th>Country</th>\n",
              "    </tr>\n",
              "  </thead>\n",
              "  <tbody>\n",
              "    <tr>\n",
              "      <th>2037</th>\n",
              "      <td>536557</td>\n",
              "      <td>21495</td>\n",
              "      <td>SKULLS AND CROSSBONES WRAP</td>\n",
              "      <td>25</td>\n",
              "      <td>12/1/10 14:41</td>\n",
              "      <td>0.42</td>\n",
              "      <td>17841.0</td>\n",
              "      <td>United Kingdom</td>\n",
              "    </tr>\n",
              "    <tr>\n",
              "      <th>2038</th>\n",
              "      <td>536557</td>\n",
              "      <td>46000R</td>\n",
              "      <td>POLYESTER FILLER PAD 45x30cm</td>\n",
              "      <td>2</td>\n",
              "      <td>12/1/10 14:41</td>\n",
              "      <td>1.45</td>\n",
              "      <td>17841.0</td>\n",
              "      <td>United Kingdom</td>\n",
              "    </tr>\n",
              "    <tr>\n",
              "      <th>2039</th>\n",
              "      <td>536557</td>\n",
              "      <td>46000S</td>\n",
              "      <td>POLYESTER FILLER PAD 40x40cm</td>\n",
              "      <td>1</td>\n",
              "      <td>12/1/10 14:41</td>\n",
              "      <td>1.45</td>\n",
              "      <td>17841.0</td>\n",
              "      <td>United Kingdom</td>\n",
              "    </tr>\n",
              "    <tr>\n",
              "      <th>2040</th>\n",
              "      <td>536557</td>\n",
              "      <td>22731</td>\n",
              "      <td>3D CHRISTMAS STAMPS STICKERS</td>\n",
              "      <td>1</td>\n",
              "      <td>12/1/10 14:41</td>\n",
              "      <td>1.25</td>\n",
              "      <td>17841.0</td>\n",
              "      <td>United Kingdom</td>\n",
              "    </tr>\n",
              "    <tr>\n",
              "      <th>2041</th>\n",
              "      <td>536557</td>\n",
              "      <td>21258</td>\n",
              "      <td>VICTORIAN SEWING BOX LARGE</td>\n",
              "      <td>1</td>\n",
              "      <td>12/1/10 14:41</td>\n",
              "      <td>12.75</td>\n",
              "      <td>17841.0</td>\n",
              "      <td>United Kingdom</td>\n",
              "    </tr>\n",
              "    <tr>\n",
              "      <th>2042</th>\n",
              "      <td>536557</td>\n",
              "      <td>21041</td>\n",
              "      <td>RED RETROSPOT OVEN GLOVE DOUBLE</td>\n",
              "      <td>1</td>\n",
              "      <td>12/1/10 14:41</td>\n",
              "      <td>2.95</td>\n",
              "      <td>17841.0</td>\n",
              "      <td>United Kingdom</td>\n",
              "    </tr>\n",
              "    <tr>\n",
              "      <th>2043</th>\n",
              "      <td>536557</td>\n",
              "      <td>84920</td>\n",
              "      <td>PINK FLOWER FABRIC PONY</td>\n",
              "      <td>1</td>\n",
              "      <td>12/1/10 14:41</td>\n",
              "      <td>3.75</td>\n",
              "      <td>17841.0</td>\n",
              "      <td>United Kingdom</td>\n",
              "    </tr>\n",
              "    <tr>\n",
              "      <th>2044</th>\n",
              "      <td>536557</td>\n",
              "      <td>22173</td>\n",
              "      <td>METAL 4 HOOK HANGER FRENCH CHATEAU</td>\n",
              "      <td>1</td>\n",
              "      <td>12/1/10 14:41</td>\n",
              "      <td>2.95</td>\n",
              "      <td>17841.0</td>\n",
              "      <td>United Kingdom</td>\n",
              "    </tr>\n",
              "    <tr>\n",
              "      <th>2045</th>\n",
              "      <td>536557</td>\n",
              "      <td>22953</td>\n",
              "      <td>BIRTHDAY PARTY CORDON BARRIER TAPE</td>\n",
              "      <td>1</td>\n",
              "      <td>12/1/10 14:41</td>\n",
              "      <td>1.25</td>\n",
              "      <td>17841.0</td>\n",
              "      <td>United Kingdom</td>\n",
              "    </tr>\n",
              "    <tr>\n",
              "      <th>2046</th>\n",
              "      <td>536557</td>\n",
              "      <td>84508A</td>\n",
              "      <td>CAMOUFLAGE DESIGN TEDDY</td>\n",
              "      <td>1</td>\n",
              "      <td>12/1/10 14:41</td>\n",
              "      <td>2.55</td>\n",
              "      <td>17841.0</td>\n",
              "      <td>United Kingdom</td>\n",
              "    </tr>\n",
              "    <tr>\n",
              "      <th>2047</th>\n",
              "      <td>536557</td>\n",
              "      <td>22471</td>\n",
              "      <td>TV DINNER TRAY AIR HOSTESS</td>\n",
              "      <td>1</td>\n",
              "      <td>12/1/10 14:41</td>\n",
              "      <td>4.95</td>\n",
              "      <td>17841.0</td>\n",
              "      <td>United Kingdom</td>\n",
              "    </tr>\n",
              "    <tr>\n",
              "      <th>2048</th>\n",
              "      <td>536557</td>\n",
              "      <td>21935</td>\n",
              "      <td>SUKI  SHOULDER BAG</td>\n",
              "      <td>4</td>\n",
              "      <td>12/1/10 14:41</td>\n",
              "      <td>1.65</td>\n",
              "      <td>17841.0</td>\n",
              "      <td>United Kingdom</td>\n",
              "    </tr>\n",
              "    <tr>\n",
              "      <th>2049</th>\n",
              "      <td>536557</td>\n",
              "      <td>21670</td>\n",
              "      <td>BLUE SPOT CERAMIC DRAWER KNOB</td>\n",
              "      <td>6</td>\n",
              "      <td>12/1/10 14:41</td>\n",
              "      <td>1.25</td>\n",
              "      <td>17841.0</td>\n",
              "      <td>United Kingdom</td>\n",
              "    </tr>\n",
              "    <tr>\n",
              "      <th>2050</th>\n",
              "      <td>536557</td>\n",
              "      <td>20668</td>\n",
              "      <td>DISCO BALL CHRISTMAS DECORATION</td>\n",
              "      <td>24</td>\n",
              "      <td>12/1/10 14:41</td>\n",
              "      <td>0.12</td>\n",
              "      <td>17841.0</td>\n",
              "      <td>United Kingdom</td>\n",
              "    </tr>\n",
              "    <tr>\n",
              "      <th>2051</th>\n",
              "      <td>536557</td>\n",
              "      <td>21672</td>\n",
              "      <td>WHITE SPOT RED CERAMIC DRAWER KNOB</td>\n",
              "      <td>1</td>\n",
              "      <td>12/1/10 14:41</td>\n",
              "      <td>1.25</td>\n",
              "      <td>17841.0</td>\n",
              "      <td>United Kingdom</td>\n",
              "    </tr>\n",
              "    <tr>\n",
              "      <th>2052</th>\n",
              "      <td>536557</td>\n",
              "      <td>22553</td>\n",
              "      <td>PLASTERS IN TIN SKULLS</td>\n",
              "      <td>1</td>\n",
              "      <td>12/1/10 14:41</td>\n",
              "      <td>1.65</td>\n",
              "      <td>17841.0</td>\n",
              "      <td>United Kingdom</td>\n",
              "    </tr>\n",
              "    <tr>\n",
              "      <th>2053</th>\n",
              "      <td>536557</td>\n",
              "      <td>22041</td>\n",
              "      <td>RECORD FRAME 7\" SINGLE SIZE</td>\n",
              "      <td>4</td>\n",
              "      <td>12/1/10 14:41</td>\n",
              "      <td>2.55</td>\n",
              "      <td>17841.0</td>\n",
              "      <td>United Kingdom</td>\n",
              "    </tr>\n",
              "    <tr>\n",
              "      <th>2054</th>\n",
              "      <td>536557</td>\n",
              "      <td>20972</td>\n",
              "      <td>PINK CREAM FELT CRAFT TRINKET BOX</td>\n",
              "      <td>2</td>\n",
              "      <td>12/1/10 14:41</td>\n",
              "      <td>1.25</td>\n",
              "      <td>17841.0</td>\n",
              "      <td>United Kingdom</td>\n",
              "    </tr>\n",
              "    <tr>\n",
              "      <th>2055</th>\n",
              "      <td>536557</td>\n",
              "      <td>22568</td>\n",
              "      <td>FELTCRAFT CUSHION OWL</td>\n",
              "      <td>1</td>\n",
              "      <td>12/1/10 14:41</td>\n",
              "      <td>3.75</td>\n",
              "      <td>17841.0</td>\n",
              "      <td>United Kingdom</td>\n",
              "    </tr>\n",
              "    <tr>\n",
              "      <th>2056</th>\n",
              "      <td>536557</td>\n",
              "      <td>22570</td>\n",
              "      <td>FELTCRAFT CUSHION RABBIT</td>\n",
              "      <td>1</td>\n",
              "      <td>12/1/10 14:41</td>\n",
              "      <td>3.75</td>\n",
              "      <td>17841.0</td>\n",
              "      <td>United Kingdom</td>\n",
              "    </tr>\n",
              "    <tr>\n",
              "      <th>2057</th>\n",
              "      <td>536557</td>\n",
              "      <td>22730</td>\n",
              "      <td>ALARM CLOCK BAKELIKE IVORY</td>\n",
              "      <td>1</td>\n",
              "      <td>12/1/10 14:41</td>\n",
              "      <td>3.75</td>\n",
              "      <td>17841.0</td>\n",
              "      <td>United Kingdom</td>\n",
              "    </tr>\n",
              "    <tr>\n",
              "      <th>2058</th>\n",
              "      <td>536557</td>\n",
              "      <td>20749</td>\n",
              "      <td>ASSORTED COLOUR MINI CASES</td>\n",
              "      <td>1</td>\n",
              "      <td>12/1/10 14:41</td>\n",
              "      <td>7.95</td>\n",
              "      <td>17841.0</td>\n",
              "      <td>United Kingdom</td>\n",
              "    </tr>\n",
              "    <tr>\n",
              "      <th>2059</th>\n",
              "      <td>536557</td>\n",
              "      <td>22785</td>\n",
              "      <td>SQUARECUSHION COVER PINK UNION FLAG</td>\n",
              "      <td>1</td>\n",
              "      <td>12/1/10 14:41</td>\n",
              "      <td>6.75</td>\n",
              "      <td>17841.0</td>\n",
              "      <td>United Kingdom</td>\n",
              "    </tr>\n",
              "    <tr>\n",
              "      <th>2060</th>\n",
              "      <td>536557</td>\n",
              "      <td>22786</td>\n",
              "      <td>CUSHION COVER PINK UNION JACK</td>\n",
              "      <td>2</td>\n",
              "      <td>12/1/10 14:41</td>\n",
              "      <td>5.95</td>\n",
              "      <td>17841.0</td>\n",
              "      <td>United Kingdom</td>\n",
              "    </tr>\n",
              "    <tr>\n",
              "      <th>2061</th>\n",
              "      <td>536557</td>\n",
              "      <td>85064</td>\n",
              "      <td>CREAM SWEETHEART LETTER RACK</td>\n",
              "      <td>2</td>\n",
              "      <td>12/1/10 14:41</td>\n",
              "      <td>5.45</td>\n",
              "      <td>17841.0</td>\n",
              "      <td>United Kingdom</td>\n",
              "    </tr>\n",
              "    <tr>\n",
              "      <th>2062</th>\n",
              "      <td>536557</td>\n",
              "      <td>22212</td>\n",
              "      <td>FOUR HOOK  WHITE LOVEBIRDS</td>\n",
              "      <td>1</td>\n",
              "      <td>12/1/10 14:41</td>\n",
              "      <td>2.10</td>\n",
              "      <td>17841.0</td>\n",
              "      <td>United Kingdom</td>\n",
              "    </tr>\n",
              "    <tr>\n",
              "      <th>2063</th>\n",
              "      <td>536557</td>\n",
              "      <td>21486</td>\n",
              "      <td>PINK HEART DOTS HOT WATER BOTTLE</td>\n",
              "      <td>2</td>\n",
              "      <td>12/1/10 14:41</td>\n",
              "      <td>3.75</td>\n",
              "      <td>17841.0</td>\n",
              "      <td>United Kingdom</td>\n",
              "    </tr>\n",
              "    <tr>\n",
              "      <th>2064</th>\n",
              "      <td>536557</td>\n",
              "      <td>22114</td>\n",
              "      <td>HOT WATER BOTTLE TEA AND SYMPATHY</td>\n",
              "      <td>2</td>\n",
              "      <td>12/1/10 14:41</td>\n",
              "      <td>3.95</td>\n",
              "      <td>17841.0</td>\n",
              "      <td>United Kingdom</td>\n",
              "    </tr>\n",
              "    <tr>\n",
              "      <th>2065</th>\n",
              "      <td>536557</td>\n",
              "      <td>21485</td>\n",
              "      <td>RETROSPOT HEART HOT WATER BOTTLE</td>\n",
              "      <td>1</td>\n",
              "      <td>12/1/10 14:41</td>\n",
              "      <td>4.95</td>\n",
              "      <td>17841.0</td>\n",
              "      <td>United Kingdom</td>\n",
              "    </tr>\n",
              "    <tr>\n",
              "      <th>2066</th>\n",
              "      <td>536557</td>\n",
              "      <td>84029E</td>\n",
              "      <td>RED WOOLLY HOTTIE WHITE HEART.</td>\n",
              "      <td>1</td>\n",
              "      <td>12/1/10 14:41</td>\n",
              "      <td>3.75</td>\n",
              "      <td>17841.0</td>\n",
              "      <td>United Kingdom</td>\n",
              "    </tr>\n",
              "    <tr>\n",
              "      <th>...</th>\n",
              "      <td>...</td>\n",
              "      <td>...</td>\n",
              "      <td>...</td>\n",
              "      <td>...</td>\n",
              "      <td>...</td>\n",
              "      <td>...</td>\n",
              "      <td>...</td>\n",
              "      <td>...</td>\n",
              "    </tr>\n",
              "    <tr>\n",
              "      <th>537724</th>\n",
              "      <td>581334</td>\n",
              "      <td>22726</td>\n",
              "      <td>ALARM CLOCK BAKELIKE GREEN</td>\n",
              "      <td>2</td>\n",
              "      <td>12/8/11 12:07</td>\n",
              "      <td>3.75</td>\n",
              "      <td>17841.0</td>\n",
              "      <td>United Kingdom</td>\n",
              "    </tr>\n",
              "    <tr>\n",
              "      <th>537725</th>\n",
              "      <td>581334</td>\n",
              "      <td>22775</td>\n",
              "      <td>PURPLE DRAWERKNOB ACRYLIC EDWARDIAN</td>\n",
              "      <td>12</td>\n",
              "      <td>12/8/11 12:07</td>\n",
              "      <td>1.25</td>\n",
              "      <td>17841.0</td>\n",
              "      <td>United Kingdom</td>\n",
              "    </tr>\n",
              "    <tr>\n",
              "      <th>537726</th>\n",
              "      <td>581334</td>\n",
              "      <td>21479</td>\n",
              "      <td>WHITE SKULL HOT WATER BOTTLE</td>\n",
              "      <td>2</td>\n",
              "      <td>12/8/11 12:07</td>\n",
              "      <td>4.25</td>\n",
              "      <td>17841.0</td>\n",
              "      <td>United Kingdom</td>\n",
              "    </tr>\n",
              "    <tr>\n",
              "      <th>537727</th>\n",
              "      <td>581334</td>\n",
              "      <td>22464</td>\n",
              "      <td>HANGING METAL HEART LANTERN</td>\n",
              "      <td>1</td>\n",
              "      <td>12/8/11 12:07</td>\n",
              "      <td>0.79</td>\n",
              "      <td>17841.0</td>\n",
              "      <td>United Kingdom</td>\n",
              "    </tr>\n",
              "    <tr>\n",
              "      <th>537728</th>\n",
              "      <td>581334</td>\n",
              "      <td>22309</td>\n",
              "      <td>TEA COSY RED  STRIPE</td>\n",
              "      <td>1</td>\n",
              "      <td>12/8/11 12:07</td>\n",
              "      <td>2.55</td>\n",
              "      <td>17841.0</td>\n",
              "      <td>United Kingdom</td>\n",
              "    </tr>\n",
              "    <tr>\n",
              "      <th>537729</th>\n",
              "      <td>581334</td>\n",
              "      <td>21485</td>\n",
              "      <td>RETROSPOT HEART HOT WATER BOTTLE</td>\n",
              "      <td>1</td>\n",
              "      <td>12/8/11 12:07</td>\n",
              "      <td>4.95</td>\n",
              "      <td>17841.0</td>\n",
              "      <td>United Kingdom</td>\n",
              "    </tr>\n",
              "    <tr>\n",
              "      <th>537730</th>\n",
              "      <td>581334</td>\n",
              "      <td>84032B</td>\n",
              "      <td>CHARLIE + LOLA RED HOT WATER BOTTLE</td>\n",
              "      <td>2</td>\n",
              "      <td>12/8/11 12:07</td>\n",
              "      <td>0.79</td>\n",
              "      <td>17841.0</td>\n",
              "      <td>United Kingdom</td>\n",
              "    </tr>\n",
              "    <tr>\n",
              "      <th>537731</th>\n",
              "      <td>581334</td>\n",
              "      <td>84032A</td>\n",
              "      <td>CHARLIE+LOLA PINK HOT WATER BOTTLE</td>\n",
              "      <td>2</td>\n",
              "      <td>12/8/11 12:07</td>\n",
              "      <td>0.79</td>\n",
              "      <td>17841.0</td>\n",
              "      <td>United Kingdom</td>\n",
              "    </tr>\n",
              "    <tr>\n",
              "      <th>537732</th>\n",
              "      <td>581334</td>\n",
              "      <td>84031A</td>\n",
              "      <td>CHARLIE+LOLA RED HOT WATER BOTTLE</td>\n",
              "      <td>1</td>\n",
              "      <td>12/8/11 12:07</td>\n",
              "      <td>1.25</td>\n",
              "      <td>17841.0</td>\n",
              "      <td>United Kingdom</td>\n",
              "    </tr>\n",
              "    <tr>\n",
              "      <th>537733</th>\n",
              "      <td>581334</td>\n",
              "      <td>84031B</td>\n",
              "      <td>CHARLIE LOLA BLUE HOT WATER BOTTLE</td>\n",
              "      <td>1</td>\n",
              "      <td>12/8/11 12:07</td>\n",
              "      <td>1.25</td>\n",
              "      <td>17841.0</td>\n",
              "      <td>United Kingdom</td>\n",
              "    </tr>\n",
              "    <tr>\n",
              "      <th>537734</th>\n",
              "      <td>581334</td>\n",
              "      <td>23355</td>\n",
              "      <td>HOT WATER BOTTLE KEEP CALM</td>\n",
              "      <td>2</td>\n",
              "      <td>12/8/11 12:07</td>\n",
              "      <td>4.95</td>\n",
              "      <td>17841.0</td>\n",
              "      <td>United Kingdom</td>\n",
              "    </tr>\n",
              "    <tr>\n",
              "      <th>537735</th>\n",
              "      <td>581334</td>\n",
              "      <td>84031A</td>\n",
              "      <td>CHARLIE+LOLA RED HOT WATER BOTTLE</td>\n",
              "      <td>1</td>\n",
              "      <td>12/8/11 12:07</td>\n",
              "      <td>1.25</td>\n",
              "      <td>17841.0</td>\n",
              "      <td>United Kingdom</td>\n",
              "    </tr>\n",
              "    <tr>\n",
              "      <th>537736</th>\n",
              "      <td>581334</td>\n",
              "      <td>22308</td>\n",
              "      <td>TEA COSY BLUE STRIPE</td>\n",
              "      <td>1</td>\n",
              "      <td>12/8/11 12:07</td>\n",
              "      <td>2.55</td>\n",
              "      <td>17841.0</td>\n",
              "      <td>United Kingdom</td>\n",
              "    </tr>\n",
              "    <tr>\n",
              "      <th>537737</th>\n",
              "      <td>581334</td>\n",
              "      <td>21232</td>\n",
              "      <td>STRAWBERRY CERAMIC TRINKET POT</td>\n",
              "      <td>4</td>\n",
              "      <td>12/8/11 12:07</td>\n",
              "      <td>1.25</td>\n",
              "      <td>17841.0</td>\n",
              "      <td>United Kingdom</td>\n",
              "    </tr>\n",
              "    <tr>\n",
              "      <th>537738</th>\n",
              "      <td>581334</td>\n",
              "      <td>85174</td>\n",
              "      <td>S/4 CACTI CANDLES</td>\n",
              "      <td>1</td>\n",
              "      <td>12/8/11 12:07</td>\n",
              "      <td>4.95</td>\n",
              "      <td>17841.0</td>\n",
              "      <td>United Kingdom</td>\n",
              "    </tr>\n",
              "    <tr>\n",
              "      <th>537739</th>\n",
              "      <td>581334</td>\n",
              "      <td>35471D</td>\n",
              "      <td>SET OF 3 BIRD LIGHT PINK FEATHER</td>\n",
              "      <td>24</td>\n",
              "      <td>12/8/11 12:07</td>\n",
              "      <td>0.39</td>\n",
              "      <td>17841.0</td>\n",
              "      <td>United Kingdom</td>\n",
              "    </tr>\n",
              "    <tr>\n",
              "      <th>537740</th>\n",
              "      <td>581334</td>\n",
              "      <td>23148</td>\n",
              "      <td>MINIATURE ANTIQUE ROSE HOOK IVORY</td>\n",
              "      <td>3</td>\n",
              "      <td>12/8/11 12:07</td>\n",
              "      <td>0.83</td>\n",
              "      <td>17841.0</td>\n",
              "      <td>United Kingdom</td>\n",
              "    </tr>\n",
              "    <tr>\n",
              "      <th>537741</th>\n",
              "      <td>581334</td>\n",
              "      <td>22179</td>\n",
              "      <td>SET 10 NIGHT OWL LIGHTS</td>\n",
              "      <td>1</td>\n",
              "      <td>12/8/11 12:07</td>\n",
              "      <td>6.75</td>\n",
              "      <td>17841.0</td>\n",
              "      <td>United Kingdom</td>\n",
              "    </tr>\n",
              "    <tr>\n",
              "      <th>537742</th>\n",
              "      <td>581334</td>\n",
              "      <td>22841</td>\n",
              "      <td>ROUND CAKE TIN VINTAGE GREEN</td>\n",
              "      <td>1</td>\n",
              "      <td>12/8/11 12:07</td>\n",
              "      <td>7.95</td>\n",
              "      <td>17841.0</td>\n",
              "      <td>United Kingdom</td>\n",
              "    </tr>\n",
              "    <tr>\n",
              "      <th>537743</th>\n",
              "      <td>581334</td>\n",
              "      <td>22365</td>\n",
              "      <td>DOORMAT RESPECTABLE HOUSE</td>\n",
              "      <td>1</td>\n",
              "      <td>12/8/11 12:07</td>\n",
              "      <td>8.25</td>\n",
              "      <td>17841.0</td>\n",
              "      <td>United Kingdom</td>\n",
              "    </tr>\n",
              "    <tr>\n",
              "      <th>537744</th>\n",
              "      <td>581334</td>\n",
              "      <td>21137</td>\n",
              "      <td>BLACK RECORD COVER FRAME</td>\n",
              "      <td>2</td>\n",
              "      <td>12/8/11 12:07</td>\n",
              "      <td>3.75</td>\n",
              "      <td>17841.0</td>\n",
              "      <td>United Kingdom</td>\n",
              "    </tr>\n",
              "    <tr>\n",
              "      <th>537745</th>\n",
              "      <td>581334</td>\n",
              "      <td>22041</td>\n",
              "      <td>RECORD FRAME 7\" SINGLE SIZE</td>\n",
              "      <td>3</td>\n",
              "      <td>12/8/11 12:07</td>\n",
              "      <td>2.55</td>\n",
              "      <td>17841.0</td>\n",
              "      <td>United Kingdom</td>\n",
              "    </tr>\n",
              "    <tr>\n",
              "      <th>537746</th>\n",
              "      <td>581334</td>\n",
              "      <td>22838</td>\n",
              "      <td>3 TIER CAKE TIN RED AND CREAM</td>\n",
              "      <td>1</td>\n",
              "      <td>12/8/11 12:07</td>\n",
              "      <td>14.95</td>\n",
              "      <td>17841.0</td>\n",
              "      <td>United Kingdom</td>\n",
              "    </tr>\n",
              "    <tr>\n",
              "      <th>537747</th>\n",
              "      <td>581334</td>\n",
              "      <td>22473</td>\n",
              "      <td>TV DINNER TRAY VINTAGE PAISLEY</td>\n",
              "      <td>1</td>\n",
              "      <td>12/8/11 12:07</td>\n",
              "      <td>1.95</td>\n",
              "      <td>17841.0</td>\n",
              "      <td>United Kingdom</td>\n",
              "    </tr>\n",
              "    <tr>\n",
              "      <th>537748</th>\n",
              "      <td>581334</td>\n",
              "      <td>22077</td>\n",
              "      <td>6 RIBBONS RUSTIC CHARM</td>\n",
              "      <td>1</td>\n",
              "      <td>12/8/11 12:07</td>\n",
              "      <td>1.95</td>\n",
              "      <td>17841.0</td>\n",
              "      <td>United Kingdom</td>\n",
              "    </tr>\n",
              "    <tr>\n",
              "      <th>537749</th>\n",
              "      <td>581334</td>\n",
              "      <td>23399</td>\n",
              "      <td>HOME SWEET HOME HANGING HEART</td>\n",
              "      <td>3</td>\n",
              "      <td>12/8/11 12:07</td>\n",
              "      <td>0.85</td>\n",
              "      <td>17841.0</td>\n",
              "      <td>United Kingdom</td>\n",
              "    </tr>\n",
              "    <tr>\n",
              "      <th>537750</th>\n",
              "      <td>581334</td>\n",
              "      <td>22893</td>\n",
              "      <td>MINI CAKE STAND T-LIGHT HOLDER</td>\n",
              "      <td>12</td>\n",
              "      <td>12/8/11 12:07</td>\n",
              "      <td>0.42</td>\n",
              "      <td>17841.0</td>\n",
              "      <td>United Kingdom</td>\n",
              "    </tr>\n",
              "    <tr>\n",
              "      <th>537751</th>\n",
              "      <td>581334</td>\n",
              "      <td>22371</td>\n",
              "      <td>AIRLINE BAG VINTAGE TOKYO 78</td>\n",
              "      <td>1</td>\n",
              "      <td>12/8/11 12:07</td>\n",
              "      <td>4.25</td>\n",
              "      <td>17841.0</td>\n",
              "      <td>United Kingdom</td>\n",
              "    </tr>\n",
              "    <tr>\n",
              "      <th>537752</th>\n",
              "      <td>581334</td>\n",
              "      <td>22309</td>\n",
              "      <td>TEA COSY RED  STRIPE</td>\n",
              "      <td>1</td>\n",
              "      <td>12/8/11 12:07</td>\n",
              "      <td>2.55</td>\n",
              "      <td>17841.0</td>\n",
              "      <td>United Kingdom</td>\n",
              "    </tr>\n",
              "    <tr>\n",
              "      <th>537753</th>\n",
              "      <td>581334</td>\n",
              "      <td>21926</td>\n",
              "      <td>RED/CREAM STRIPE CUSHION COVER</td>\n",
              "      <td>8</td>\n",
              "      <td>12/8/11 12:07</td>\n",
              "      <td>1.25</td>\n",
              "      <td>17841.0</td>\n",
              "      <td>United Kingdom</td>\n",
              "    </tr>\n",
              "  </tbody>\n",
              "</table>\n",
              "<p>7847 rows × 8 columns</p>\n",
              "</div>"
            ],
            "text/plain": [
              "       InvoiceNo StockCode  ... CustomerID         Country\n",
              "2037      536557     21495  ...    17841.0  United Kingdom\n",
              "2038      536557    46000R  ...    17841.0  United Kingdom\n",
              "2039      536557    46000S  ...    17841.0  United Kingdom\n",
              "2040      536557     22731  ...    17841.0  United Kingdom\n",
              "2041      536557     21258  ...    17841.0  United Kingdom\n",
              "2042      536557     21041  ...    17841.0  United Kingdom\n",
              "2043      536557     84920  ...    17841.0  United Kingdom\n",
              "2044      536557     22173  ...    17841.0  United Kingdom\n",
              "2045      536557     22953  ...    17841.0  United Kingdom\n",
              "2046      536557    84508A  ...    17841.0  United Kingdom\n",
              "2047      536557     22471  ...    17841.0  United Kingdom\n",
              "2048      536557     21935  ...    17841.0  United Kingdom\n",
              "2049      536557     21670  ...    17841.0  United Kingdom\n",
              "2050      536557     20668  ...    17841.0  United Kingdom\n",
              "2051      536557     21672  ...    17841.0  United Kingdom\n",
              "2052      536557     22553  ...    17841.0  United Kingdom\n",
              "2053      536557     22041  ...    17841.0  United Kingdom\n",
              "2054      536557     20972  ...    17841.0  United Kingdom\n",
              "2055      536557     22568  ...    17841.0  United Kingdom\n",
              "2056      536557     22570  ...    17841.0  United Kingdom\n",
              "2057      536557     22730  ...    17841.0  United Kingdom\n",
              "2058      536557     20749  ...    17841.0  United Kingdom\n",
              "2059      536557     22785  ...    17841.0  United Kingdom\n",
              "2060      536557     22786  ...    17841.0  United Kingdom\n",
              "2061      536557     85064  ...    17841.0  United Kingdom\n",
              "2062      536557     22212  ...    17841.0  United Kingdom\n",
              "2063      536557     21486  ...    17841.0  United Kingdom\n",
              "2064      536557     22114  ...    17841.0  United Kingdom\n",
              "2065      536557     21485  ...    17841.0  United Kingdom\n",
              "2066      536557    84029E  ...    17841.0  United Kingdom\n",
              "...          ...       ...  ...        ...             ...\n",
              "537724    581334     22726  ...    17841.0  United Kingdom\n",
              "537725    581334     22775  ...    17841.0  United Kingdom\n",
              "537726    581334     21479  ...    17841.0  United Kingdom\n",
              "537727    581334     22464  ...    17841.0  United Kingdom\n",
              "537728    581334     22309  ...    17841.0  United Kingdom\n",
              "537729    581334     21485  ...    17841.0  United Kingdom\n",
              "537730    581334    84032B  ...    17841.0  United Kingdom\n",
              "537731    581334    84032A  ...    17841.0  United Kingdom\n",
              "537732    581334    84031A  ...    17841.0  United Kingdom\n",
              "537733    581334    84031B  ...    17841.0  United Kingdom\n",
              "537734    581334     23355  ...    17841.0  United Kingdom\n",
              "537735    581334    84031A  ...    17841.0  United Kingdom\n",
              "537736    581334     22308  ...    17841.0  United Kingdom\n",
              "537737    581334     21232  ...    17841.0  United Kingdom\n",
              "537738    581334     85174  ...    17841.0  United Kingdom\n",
              "537739    581334    35471D  ...    17841.0  United Kingdom\n",
              "537740    581334     23148  ...    17841.0  United Kingdom\n",
              "537741    581334     22179  ...    17841.0  United Kingdom\n",
              "537742    581334     22841  ...    17841.0  United Kingdom\n",
              "537743    581334     22365  ...    17841.0  United Kingdom\n",
              "537744    581334     21137  ...    17841.0  United Kingdom\n",
              "537745    581334     22041  ...    17841.0  United Kingdom\n",
              "537746    581334     22838  ...    17841.0  United Kingdom\n",
              "537747    581334     22473  ...    17841.0  United Kingdom\n",
              "537748    581334     22077  ...    17841.0  United Kingdom\n",
              "537749    581334     23399  ...    17841.0  United Kingdom\n",
              "537750    581334     22893  ...    17841.0  United Kingdom\n",
              "537751    581334     22371  ...    17841.0  United Kingdom\n",
              "537752    581334     22309  ...    17841.0  United Kingdom\n",
              "537753    581334     21926  ...    17841.0  United Kingdom\n",
              "\n",
              "[7847 rows x 8 columns]"
            ]
          },
          "metadata": {
            "tags": []
          },
          "execution_count": 10
        }
      ]
    },
    {
      "cell_type": "markdown",
      "metadata": {
        "id": "9yUfXWelIiTg",
        "colab_type": "text"
      },
      "source": [
        "**The customer with the highest money spent on purchases comes from Netherlands**"
      ]
    },
    {
      "cell_type": "code",
      "metadata": {
        "id": "qCN_rIThJDRj",
        "colab_type": "code",
        "outputId": "8f5e33ad-157e-4028-acf8-3167201ff075",
        "colab": {
          "base_uri": "https://localhost:8080/",
          "height": 111
        }
      },
      "source": [
        "# Your code here\n",
        "newdf = df\n",
        "newdf['Total'] = newdf['Quantity'] * newdf['UnitPrice']\n",
        "newdf[newdf['Country'] == 'Netherlands'].groupby(by = 'CustomerID').sum().sort_values(by = 'Total', ascending = False).head(1)\n"
      ],
      "execution_count": 11,
      "outputs": [
        {
          "output_type": "execute_result",
          "data": {
            "text/html": [
              "<div>\n",
              "<style scoped>\n",
              "    .dataframe tbody tr th:only-of-type {\n",
              "        vertical-align: middle;\n",
              "    }\n",
              "\n",
              "    .dataframe tbody tr th {\n",
              "        vertical-align: top;\n",
              "    }\n",
              "\n",
              "    .dataframe thead th {\n",
              "        text-align: right;\n",
              "    }\n",
              "</style>\n",
              "<table border=\"1\" class=\"dataframe\">\n",
              "  <thead>\n",
              "    <tr style=\"text-align: right;\">\n",
              "      <th></th>\n",
              "      <th>Quantity</th>\n",
              "      <th>UnitPrice</th>\n",
              "      <th>Total</th>\n",
              "    </tr>\n",
              "    <tr>\n",
              "      <th>CustomerID</th>\n",
              "      <th></th>\n",
              "      <th></th>\n",
              "      <th></th>\n",
              "    </tr>\n",
              "  </thead>\n",
              "  <tbody>\n",
              "    <tr>\n",
              "      <th>14646.0</th>\n",
              "      <td>196915</td>\n",
              "      <td>5176.09</td>\n",
              "      <td>280206.02</td>\n",
              "    </tr>\n",
              "  </tbody>\n",
              "</table>\n",
              "</div>"
            ],
            "text/plain": [
              "            Quantity  UnitPrice      Total\n",
              "CustomerID                                \n",
              "14646.0       196915    5176.09  280206.02"
            ]
          },
          "metadata": {
            "tags": []
          },
          "execution_count": 11
        }
      ]
    },
    {
      "cell_type": "markdown",
      "metadata": {
        "id": "UcCxS85hIwLb",
        "colab_type": "text"
      },
      "source": [
        "**On which year had the highest sales?**"
      ]
    },
    {
      "cell_type": "code",
      "metadata": {
        "id": "i-7RsisUI_gc",
        "colab_type": "code",
        "outputId": "dbb559b7-df7b-4148-c6ab-ec3a2d7fccf5",
        "colab": {
          "base_uri": "https://localhost:8080/",
          "height": 111
        }
      },
      "source": [
        "# Your code here\n",
        "\n",
        "#newdf.groupby(by = 'Year').sum().sort_values(by = 'Total', ascending = False).head(1)\n",
        "\n",
        "newdf['Year'] = newdf['InvoiceDate'].str.extract('(\\d+\\s)')\n",
        "newdf['Year'] = '20' + newdf['Year']\n",
        "newdf['Year'].str.strip()\n",
        "newdf.groupby('Year').sum().sort_values(by = 'Total', ascending = False).head(1)"
      ],
      "execution_count": 12,
      "outputs": [
        {
          "output_type": "execute_result",
          "data": {
            "text/html": [
              "<div>\n",
              "<style scoped>\n",
              "    .dataframe tbody tr th:only-of-type {\n",
              "        vertical-align: middle;\n",
              "    }\n",
              "\n",
              "    .dataframe tbody tr th {\n",
              "        vertical-align: top;\n",
              "    }\n",
              "\n",
              "    .dataframe thead th {\n",
              "        text-align: right;\n",
              "    }\n",
              "</style>\n",
              "<table border=\"1\" class=\"dataframe\">\n",
              "  <thead>\n",
              "    <tr style=\"text-align: right;\">\n",
              "      <th></th>\n",
              "      <th>Quantity</th>\n",
              "      <th>UnitPrice</th>\n",
              "      <th>CustomerID</th>\n",
              "      <th>Total</th>\n",
              "    </tr>\n",
              "    <tr>\n",
              "      <th>Year</th>\n",
              "      <th></th>\n",
              "      <th></th>\n",
              "      <th></th>\n",
              "      <th></th>\n",
              "    </tr>\n",
              "  </thead>\n",
              "  <tbody>\n",
              "    <tr>\n",
              "      <th>2011</th>\n",
              "      <td>5229137</td>\n",
              "      <td>1.871543e+06</td>\n",
              "      <td>5.679210e+09</td>\n",
              "      <td>9.842938e+06</td>\n",
              "    </tr>\n",
              "  </tbody>\n",
              "</table>\n",
              "</div>"
            ],
            "text/plain": [
              "       Quantity     UnitPrice    CustomerID         Total\n",
              "Year                                                     \n",
              "2011    5229137  1.871543e+06  5.679210e+09  9.842938e+06"
            ]
          },
          "metadata": {
            "tags": []
          },
          "execution_count": 12
        }
      ]
    },
    {
      "cell_type": "markdown",
      "metadata": {
        "id": "W-IKvzruKHXb",
        "colab_type": "text"
      },
      "source": [
        "**How many orders (per hour)?**"
      ]
    },
    {
      "cell_type": "code",
      "metadata": {
        "id": "-KPgD51AKKE6",
        "colab_type": "code",
        "colab": {
          "base_uri": "https://localhost:8080/",
          "height": 289
        },
        "outputId": "84b46422-b455-4747-e5d7-749d0b69200f"
      },
      "source": [
        "\n",
        "newdf['Hour'] = newdf['InvoiceDate'].str.extract('(\\s\\d+)')\n",
        "newdf['Hour'].str.strip()\n",
        "orderPerHour2 = newdf['Hour'].value_counts()\n",
        "orderPerHour2"
      ],
      "execution_count": 13,
      "outputs": [
        {
          "output_type": "execute_result",
          "data": {
            "text/plain": [
              " 12    77120\n",
              " 15    76246\n",
              " 13    71001\n",
              " 14    65937\n",
              " 11    56139\n",
              " 16    53369\n",
              " 10    47822\n",
              " 9     33701\n",
              " 17    27563\n",
              " 8      8800\n",
              " 18     7709\n",
              " 19     3515\n",
              " 20      802\n",
              " 7       379\n",
              " 6         1\n",
              "Name: Hour, dtype: int64"
            ]
          },
          "metadata": {
            "tags": []
          },
          "execution_count": 13
        }
      ]
    },
    {
      "cell_type": "markdown",
      "metadata": {
        "id": "dqCZUmx0KKfS",
        "colab_type": "text"
      },
      "source": [
        "**Make a plot about number of orders per hour**"
      ]
    },
    {
      "cell_type": "code",
      "metadata": {
        "id": "t9vO6xoQmmsq",
        "colab_type": "code",
        "colab": {
          "base_uri": "https://localhost:8080/",
          "height": 286
        },
        "outputId": "d761a357-ca1d-4e2c-b5ad-f8e0f85d700b"
      },
      "source": [
        "orderPerHour2.plot(kind = 'barh')"
      ],
      "execution_count": 14,
      "outputs": [
        {
          "output_type": "execute_result",
          "data": {
            "text/plain": [
              "<matplotlib.axes._subplots.AxesSubplot at 0x7fa888cb7b70>"
            ]
          },
          "metadata": {
            "tags": []
          },
          "execution_count": 14
        },
        {
          "output_type": "display_data",
          "data": {
            "image/png": "[encoded data removed]",
            "text/plain": [
              "<Figure size 432x288 with 1 Axes>"
            ]
          },
          "metadata": {
            "tags": []
          }
        }
      ]
    },
    {
      "cell_type": "markdown",
      "metadata": {
        "colab_type": "text",
        "id": "-8ZwTvS6L0vS"
      },
      "source": [
        "**How many orders (per month)?**"
      ]
    },
    {
      "cell_type": "code",
      "metadata": {
        "colab_type": "code",
        "id": "NeOp_6a3L0vX",
        "outputId": "bd638810-dbcb-43b5-bf8a-1ea4e4132e03",
        "colab": {
          "base_uri": "https://localhost:8080/",
          "height": 238
        }
      },
      "source": [
        "newdf['Month'] = newdf['InvoiceDate'].str.extract('(^\\d+)')\n",
        "newdf['Month'].str.strip()\n",
        "orderPerMonth = newdf['Month'].value_counts()\n",
        "orderPerMonth"
      ],
      "execution_count": 15,
      "outputs": [
        {
          "output_type": "execute_result",
          "data": {
            "text/plain": [
              "11    83369\n",
              "12    66591\n",
              "10    59304\n",
              "9     49261\n",
              "7     38645\n",
              "5     36164\n",
              "6     35977\n",
              "3     35803\n",
              "8     34483\n",
              "1     34306\n",
              "4     29096\n",
              "2     27105\n",
              "Name: Month, dtype: int64"
            ]
          },
          "metadata": {
            "tags": []
          },
          "execution_count": 15
        }
      ]
    },
    {
      "cell_type": "markdown",
      "metadata": {
        "colab_type": "text",
        "id": "sOYrMUczL0vb"
      },
      "source": [
        "**Make a plot about number of orders per month**"
      ]
    },
    {
      "cell_type": "code",
      "metadata": {
        "id": "e7RJQ5MbL4cY",
        "colab_type": "code",
        "outputId": "e5346e95-77a9-4750-c557-bcc397aeb36b",
        "colab": {
          "base_uri": "https://localhost:8080/",
          "height": 286
        }
      },
      "source": [
        "orderPerMonth.plot(kind = 'barh')"
      ],
      "execution_count": 16,
      "outputs": [
        {
          "output_type": "execute_result",
          "data": {
            "text/plain": [
              "<matplotlib.axes._subplots.AxesSubplot at 0x7fa88b07e160>"
            ]
          },
          "metadata": {
            "tags": []
          },
          "execution_count": 16
        },
        {
          "output_type": "display_data",
          "data": {
            "image/png": "[encoded data removed]",
            "text/plain": [
              "<Figure size 432x288 with 1 Axes>"
            ]
          },
          "metadata": {
            "tags": []
          }
        }
      ]
    },
    {
      "cell_type": "markdown",
      "metadata": {
        "id": "E3eeyQeBLd6e",
        "colab_type": "text"
      },
      "source": [
        "**Top 10 items most sales**"
      ]
    },
    {
      "cell_type": "code",
      "metadata": {
        "id": "4trjB9ZjLhEv",
        "colab_type": "code",
        "outputId": "161770ad-2ebe-495d-b884-714ea6b1cb8e",
        "colab": {
          "base_uri": "https://localhost:8080/",
          "height": 204
        }
      },
      "source": [
        "df['Description'].value_counts().head(10)"
      ],
      "execution_count": 17,
      "outputs": [
        {
          "output_type": "execute_result",
          "data": {
            "text/plain": [
              "WHITE HANGING HEART T-LIGHT HOLDER    2323\n",
              "JUMBO BAG RED RETROSPOT               2112\n",
              "REGENCY CAKESTAND 3 TIER              2017\n",
              "PARTY BUNTING                         1706\n",
              "LUNCH BAG RED RETROSPOT               1594\n",
              "ASSORTED COLOUR BIRD ORNAMENT         1489\n",
              "SET OF 3 CAKE TINS PANTRY DESIGN      1399\n",
              "PACK OF 72 RETROSPOT CAKE CASES       1370\n",
              "LUNCH BAG  BLACK SKULL.               1328\n",
              "NATURAL SLATE HEART CHALKBOARD        1263\n",
              "Name: Description, dtype: int64"
            ]
          },
          "metadata": {
            "tags": []
          },
          "execution_count": 17
        }
      ]
    },
    {
      "cell_type": "markdown",
      "metadata": {
        "id": "ggak_TMtLh5o",
        "colab_type": "text"
      },
      "source": [
        ""
      ]
    },
    {
      "cell_type": "markdown",
      "metadata": {
        "id": "-dEBLw1uPm1-",
        "colab_type": "text"
      },
      "source": [
        "**Create a histogram with the 10 countries that have the most 'Quantity' ordered except UK**"
      ]
    },
    {
      "cell_type": "code",
      "metadata": {
        "id": "_N-UF331Pm1-",
        "colab_type": "code",
        "outputId": "20b38d34-57c0-4441-9edd-40b5f4e9b365",
        "colab": {
          "base_uri": "https://localhost:8080/",
          "height": 504
        }
      },
      "source": [
        "# Your code here\n",
        "top10 = df[df['Country'] != 'United Kingdom'].groupby(by = 'Country').sum().sort_values(by = 'Quantity', ascending = False).head(10)\n",
        "print(top10['Quantity'])\n",
        "sns.distplot(top10['Quantity'], bins = 5).set(xlim = (0))\n",
        "# What can you tell about this?\n",
        "# the orders mostly came from the surrounding countries of UK so I expected that UK wp be at the top in terms of quantity"
      ],
      "execution_count": 18,
      "outputs": [
        {
          "output_type": "stream",
          "text": [
            "Country\n",
            "Netherlands    200361\n",
            "EIRE           147173\n",
            "Germany        119261\n",
            "France         112103\n",
            "Australia       83901\n",
            "Sweden          36083\n",
            "Switzerland     30629\n",
            "Spain           27940\n",
            "Japan           26016\n",
            "Belgium         23237\n",
            "Name: Quantity, dtype: int64\n"
          ],
          "name": "stdout"
        },
        {
          "output_type": "execute_result",
          "data": {
            "text/plain": [
              "[(0, 346319.22329902154)]"
            ]
          },
          "metadata": {
            "tags": []
          },
          "execution_count": 18
        },
        {
          "output_type": "display_data",
          "data": {
            "image/png": "[encoded data removed]",
            "text/plain": [
              "<Figure size 432x288 with 1 Axes>"
            ]
          },
          "metadata": {
            "tags": []
          }
        }
      ]
    },
    {
      "cell_type": "markdown",
      "metadata": {
        "id": "MoBgPjDiwhdV",
        "colab_type": "text"
      },
      "source": [
        "### You are awesome!!"
      ]
    }
  ]
}