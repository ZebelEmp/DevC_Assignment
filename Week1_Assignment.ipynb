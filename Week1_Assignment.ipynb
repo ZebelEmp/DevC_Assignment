{
  "nbformat": 4,
  "nbformat_minor": 0,
  "metadata": {
    "colab": {
      "name": "Week1_Assignment.ipynb",
      "version": "0.3.2",
      "provenance": [],
      "toc_visible": true
    },
    "kernelspec": {
      "name": "python3",
      "display_name": "Python 3"
    }
  },
  "cells": [
    {
      "cell_type": "markdown",
      "metadata": {
        "id": "jjZG7BNlbWtO",
        "colab_type": "text"
      },
      "source": [
        "![](https://i.imgur.com/0AUxkXt.png)"
      ]
    },
    {
      "cell_type": "markdown",
      "metadata": {
        "id": "jbpQzyjqbflM",
        "colab_type": "text"
      },
      "source": [
        "# Assignment 1 - The Hacker Rank\n",
        "\n",
        "HackerRank is a place where programmers from all over the world come together to solve problems in a wide range of Computer Science domains.\n",
        "\n",
        "As you solve more challenges, you earn points and move up the HackerRank Leaderboard.\n",
        "\n",
        "Looking for a job at an awesome company? You can get hired by solving [challenges](https://www.hackerrank.com/jobs/search)!\n",
        "\n",
        "It's cool. Let's establish your knowledge and fight for glory!\n",
        "\n",
        "But before that let's make it clear that.."
      ]
    },
    {
      "cell_type": "markdown",
      "metadata": {
        "id": "-ndmD4naciAN",
        "colab_type": "text"
      },
      "source": [
        "## Note-taking is IMPORTANT\n",
        "\n",
        "Blog: [Why is note-taking important](https://nickblackbourn.com/blog/why-is-note-taking-important/)\n",
        "\n",
        "Note taking isn’t just important for college students, it’s a valuable life skill.\n",
        "\n",
        "Effective note taking helps you to remember information and aids your understanding of that information. \n",
        "\n",
        "**Notes boost your understanding**\n",
        "\n",
        "By making notes, you force yourself to construct a conceptual mental representation of the ideas you are grappling with. It is this process that helps you comprehend the subject matter you are working with.\n",
        "\n",
        "**Notes are a repository of your thinking**\n",
        "\n",
        "When you need to recall something that you came across a while ago, you can go over the main ideas by looking over your notes. This is why good, comprehensive notes are so useful; they are a catalogue of the best ideas you’ve encountered, and what you thought about them.\n",
        "\n",
        "etc.\n",
        "\n",
        "\n",
        "\n",
        "\n",
        "\n",
        "\n",
        "\n"
      ]
    },
    {
      "cell_type": "markdown",
      "metadata": {
        "id": "IGvKPsdVfX-F",
        "colab_type": "text"
      },
      "source": [
        "## Requirements\n",
        "\n",
        "Pick 10 challenges on HackerRank about SQL and 5 about Python in **easy** level:\n",
        "\n",
        "[HackerRank - Domain SQL](https://www.hackerrank.com/domains/sql?filters%5Bdifficulty%5D%5B%5D=easy&filters%5Bsubdomains%5D%5B%5D=select)\n",
        "\n",
        "[HackerRank - Domain Python](https://www.hackerrank.com/domains/python?filters%5Bdifficulty%5D%5B%5D=easy)\n",
        "\n",
        "For each challenge:\n",
        "\n",
        "* Create a markdown cell first that describes the challenge.\n",
        "* Solve the challenge on HackerRank and copy your solution to a code cell below\n",
        "* (Optional) A short description about how you came up with the solution would be awesome."
      ]
    },
    {
      "cell_type": "markdown",
      "metadata": {
        "id": "higGK1Y5iAea",
        "colab_type": "text"
      },
      "source": [
        "## Example"
      ]
    },
    {
      "cell_type": "markdown",
      "metadata": {
        "id": "D2yU2FYDi4tj",
        "colab_type": "text"
      },
      "source": [
        "### SQL"
      ]
    },
    {
      "cell_type": "markdown",
      "metadata": {
        "id": "gu4DDH7Ki77C",
        "colab_type": "text"
      },
      "source": [
        "\n",
        "#### Problem 1\n",
        "\n",
        "Query all columns for all American cities in **CITY** with populations larger than 100000. The CountryCode for America is USA.\n",
        "\n",
        "**Input Format**\n",
        "\n",
        "The **CITY** table is described as follows:\n",
        "\n",
        "| Field | Type |\n",
        "|:----:|:---:|\n",
        "| ID | NUMBER |\n",
        "| NAME | VARCHAR2(17) |\n",
        "| COUNTRYCODE | VARCHAR2(3) |\n",
        "| DISTRICT | VARCHAR2(20) |\n",
        "| POPULATION | NUMBER |"
      ]
    },
    {
      "cell_type": "code",
      "metadata": {
        "id": "hhAwMjyhbT1b",
        "colab_type": "code",
        "colab": {}
      },
      "source": [
        "# Solution\n",
        "# SELECT * from city WHERE population>100000 AND countrycode='USA';"
      ],
      "execution_count": 0,
      "outputs": []
    },
    {
      "cell_type": "markdown",
      "metadata": {
        "id": "0AxyfiJijJ7T",
        "colab_type": "text"
      },
      "source": [
        "### Python"
      ]
    },
    {
      "cell_type": "markdown",
      "metadata": {
        "id": "PEW8LsB5jLqf",
        "colab_type": "text"
      },
      "source": [
        "#### Problem 1\n",
        "\n",
        "**Task** \n",
        "Given an integer, , perform the following conditional actions:\n",
        "\n",
        "* If `n` is odd, print *Weird*\n",
        "* If `n` is even and in the inclusive range of 2 to 5, print *Not Weird*\n",
        "* If `n` is even and in the inclusive range of 6 to 20, print *Weird*\n",
        "* If `n` is even and greater than 20, print *Not Weird*\n",
        "\n",
        "**Input Format**\n",
        "\n",
        "A single line containing a positive integer, .\n",
        "\n",
        "**Output Format**\n",
        "\n",
        "Print Weird if the number is weird; otherwise, print Not Weird."
      ]
    },
    {
      "cell_type": "code",
      "metadata": {
        "id": "JBOxgw0zjLC2",
        "colab_type": "code",
        "colab": {}
      },
      "source": [
        "n = int(input())\n",
        "\n",
        "if n % 2 == 1:\n",
        "    print('Weird')\n",
        "else:\n",
        "    if (n >= 2) and (n <= 5):\n",
        "        print('Not Weird')\n",
        "    elif (n >= 6) and (n <= 20):\n",
        "        print('Weird')\n",
        "    else:\n",
        "        print('Not Weird')"
      ],
      "execution_count": 0,
      "outputs": []
    },
    {
      "cell_type": "markdown",
      "metadata": {
        "id": "a-Q3VE7YkA9A",
        "colab_type": "text"
      },
      "source": [
        "## Your turn\n",
        "\n",
        "Good luck and have fun!"
      ]
    },
    {
      "cell_type": "markdown",
      "metadata": {
        "id": "wNvNpJSTww_v",
        "colab_type": "text"
      },
      "source": [
        "###SQL"
      ]
    },
    {
      "cell_type": "markdown",
      "metadata": {
        "id": "9RMzPrrfxErn",
        "colab_type": "text"
      },
      "source": [
        "#### Problem 1\n",
        "\n",
        "Query the names of all American cities in **CITY** with populations larger than 120000. The CountryCode for America is USA. \n",
        "\n",
        "**Input Format**\n",
        "\n",
        "The **CITY** table is described as follows:\n",
        "\n",
        "| Field | Type |\n",
        "|:----:|:---:|\n",
        "| ID | NUMBER |\n",
        "| NAME | VARCHAR2(17) |\n",
        "| COUNTRYCODE | VARCHAR2(3) |\n",
        "| DISTRICT | VARCHAR2(20) |\n",
        "| POPULATION | NUMBER |"
      ]
    },
    {
      "cell_type": "code",
      "metadata": {
        "id": "-e3akO0Gj_gk",
        "colab_type": "code",
        "colab": {}
      },
      "source": [
        "# Solution\n",
        "# select name from city where countrycode = \"USA\" and population > 120000"
      ],
      "execution_count": 0,
      "outputs": []
    },
    {
      "cell_type": "markdown",
      "metadata": {
        "id": "HrJdw6fHzEs5",
        "colab_type": "text"
      },
      "source": [
        "#### Problem 2\n",
        "\n",
        "Query all columns (attributes) for every row in the CITY table.\n",
        "\n",
        "**Input Format**\n",
        "\n",
        "The **CITY** table is described as follows:\n",
        "\n",
        "| Field | Type |\n",
        "|:----:|:---:|\n",
        "| ID | NUMBER |\n",
        "| NAME | VARCHAR2(17) |\n",
        "| COUNTRYCODE | VARCHAR2(3) |\n",
        "| DISTRICT | VARCHAR2(20) |\n",
        "| POPULATION | NUMBER |"
      ]
    },
    {
      "cell_type": "code",
      "metadata": {
        "id": "WbTSXmE0zFv5",
        "colab_type": "code",
        "colab": {}
      },
      "source": [
        "# solution\n",
        "# select * from city;"
      ],
      "execution_count": 0,
      "outputs": []
    },
    {
      "cell_type": "markdown",
      "metadata": {
        "id": "5dQ2lwRezGiY",
        "colab_type": "text"
      },
      "source": [
        "#### Problem 3\n",
        "\n",
        "Query all columns for a city in CITY with the ID 1661.\n",
        "\n",
        "**Input Format**\n",
        "\n",
        "The **CITY** table is described as follows:\n",
        "\n",
        "| Field | Type |\n",
        "|:----:|:---:|\n",
        "| ID | NUMBER |\n",
        "| NAME | VARCHAR2(17) |\n",
        "| COUNTRYCODE | VARCHAR2(3) |\n",
        "| DISTRICT | VARCHAR2(20) |\n",
        "| POPULATION | NUMBER |"
      ]
    },
    {
      "cell_type": "code",
      "metadata": {
        "id": "rrLcNKwazG7Q",
        "colab_type": "code",
        "colab": {}
      },
      "source": [
        "# solution\n",
        "# select * from city where id = 1661;"
      ],
      "execution_count": 0,
      "outputs": []
    },
    {
      "cell_type": "markdown",
      "metadata": {
        "id": "K7Uxemw8zHxx",
        "colab_type": "text"
      },
      "source": [
        "#### Problem 4\n",
        "\n",
        "Query all attributes of every Japanese city in the CITY table. The COUNTRYCODE for Japan is JPN.\n",
        "\n",
        "**Input Format**\n",
        "\n",
        "The **CITY** table is described as follows:\n",
        "\n",
        "| Field | Type |\n",
        "|:----:|:---:|\n",
        "| ID | NUMBER |\n",
        "| NAME | VARCHAR2(17) |\n",
        "| COUNTRYCODE | VARCHAR2(3) |\n",
        "| DISTRICT | VARCHAR2(20) |\n",
        "| POPULATION | NUMBER |"
      ]
    },
    {
      "cell_type": "code",
      "metadata": {
        "id": "Qv4B3-2BzIIF",
        "colab_type": "code",
        "colab": {}
      },
      "source": [
        "# solution\n",
        "# select * from city where countrycode = \"JPN\";"
      ],
      "execution_count": 0,
      "outputs": []
    },
    {
      "cell_type": "markdown",
      "metadata": {
        "id": "z-sTCIxnzI-W",
        "colab_type": "text"
      },
      "source": [
        "#### Problem 5\n",
        "\n",
        "Query the names of all the Japanese cities in the CITY table. The COUNTRYCODE for Japan is JPN.\n",
        "\n",
        "**Input Format**\n",
        "\n",
        "The **CITY** table is described as follows:\n",
        "\n",
        "| Field | Type |\n",
        "|:----:|:---:|\n",
        "| ID | NUMBER |\n",
        "| NAME | VARCHAR2(17) |\n",
        "| COUNTRYCODE | VARCHAR2(3) |\n",
        "| DISTRICT | VARCHAR2(20) |\n",
        "| POPULATION | NUMBER |"
      ]
    },
    {
      "cell_type": "code",
      "metadata": {
        "id": "ipJzwlnHzJTq",
        "colab_type": "code",
        "colab": {}
      },
      "source": [
        "# solution\n",
        "# select name from city where countrycode = \"JPN\";"
      ],
      "execution_count": 0,
      "outputs": []
    },
    {
      "cell_type": "markdown",
      "metadata": {
        "id": "dwqg3KCs01cQ",
        "colab_type": "text"
      },
      "source": [
        "#### Problem 6\n",
        "\n",
        "Query a list of CITY and STATE from the STATION table.\n",
        "\n",
        "**Input Format**\n",
        "\n",
        "The STATION table is described as follows:\n",
        "\n",
        "| Field | Type |\n",
        "|:----:|:---:|\n",
        "| ID | NUMBER |\n",
        "| CITY | VARCHAR2(21) |\n",
        "| STATE | VARCHAR2(2) |\n",
        "| LAT_N | NUMBER |\n",
        "| LONG_W | NUMBER |\n",
        "\n",
        "where LAT_N is the northern latitude and LONG_W is the western longitude."
      ]
    },
    {
      "cell_type": "code",
      "metadata": {
        "id": "ta-j4oRW0186",
        "colab_type": "code",
        "colab": {}
      },
      "source": [
        "# solution\n",
        "# select city, state from station;"
      ],
      "execution_count": 0,
      "outputs": []
    },
    {
      "cell_type": "markdown",
      "metadata": {
        "id": "X5MfFIoz02aS",
        "colab_type": "text"
      },
      "source": [
        "#### Problem 7\n",
        "\n",
        "Query a list of CITY names from STATION with even ID numbers only. You may print the results in any order, but must exclude duplicates from your answer.\n",
        "\n",
        "**Input Format**\n",
        "\n",
        "The STATION table is described as follows:\n",
        "\n",
        "| Field | Type |\n",
        "|:----:|:---:|\n",
        "| ID | NUMBER |\n",
        "| CITY | VARCHAR2(21) |\n",
        "| STATE | VARCHAR2(2) |\n",
        "| LAT_N | NUMBER |\n",
        "| LONG_W | NUMBER |\n",
        "\n",
        "where LAT_N is the northern latitude and LONG_W is the western longitude."
      ]
    },
    {
      "cell_type": "code",
      "metadata": {
        "id": "HnA1Z9hv02wQ",
        "colab_type": "code",
        "colab": {}
      },
      "source": [
        "# solution\n",
        "# select distinct city from station where id % 2 = 0;"
      ],
      "execution_count": 0,
      "outputs": []
    },
    {
      "cell_type": "markdown",
      "metadata": {
        "id": "PDNrBIIM03Kb",
        "colab_type": "text"
      },
      "source": [
        "#### Problem 8\n",
        "\n",
        "Let N be the number of CITY entries in STATION, and let M be the number of distinct CITY names in STATION; query the value of N - M from STATION. In other words, find the difference between the total number of CITY entries in the table and the number of distinct CITY entries in the table.\n",
        "\n",
        "**Input Format**\n",
        "\n",
        "The STATION table is described as follows:\n",
        "\n",
        "| Field | Type |\n",
        "|:----:|:---:|\n",
        "| ID | NUMBER |\n",
        "| CITY | VARCHAR2(21) |\n",
        "| STATE | VARCHAR2(2) |\n",
        "| LAT_N | NUMBER |\n",
        "| LONG_W | NUMBER |\n",
        "\n",
        "where LAT_N is the northern latitude and LONG_W is the western longitude."
      ]
    },
    {
      "cell_type": "code",
      "metadata": {
        "id": "9g42rtwB03g6",
        "colab_type": "code",
        "colab": {}
      },
      "source": [
        "# solution\n",
        "# select (count(city) - count(distinct city)) from station;"
      ],
      "execution_count": 0,
      "outputs": []
    },
    {
      "cell_type": "markdown",
      "metadata": {
        "id": "4D1gLWOQ0395",
        "colab_type": "text"
      },
      "source": [
        "#### Problem 9\n",
        "\n",
        "Query the two cities in STATION with the shortest and longest CITY names, as well as their respective lengths (i.e.: number of characters in the name). If there is more than one smallest or largest city, choose the one that comes first when ordered alphabetically.\n",
        "\n",
        "**Input Format**\n",
        "\n",
        "The STATION table is described as follows:\n",
        "\n",
        "| Field | Type |\n",
        "|:----:|:---:|\n",
        "| ID | NUMBER |\n",
        "| CITY | VARCHAR2(21) |\n",
        "| STATE | VARCHAR2(2) |\n",
        "| LAT_N | NUMBER |\n",
        "| LONG_W | NUMBER |\n",
        "\n",
        "where LAT_N is the northern latitude and LONG_W is the western longitude."
      ]
    },
    {
      "cell_type": "code",
      "metadata": {
        "id": "BQeA6qzS04ZB",
        "colab_type": "code",
        "colab": {}
      },
      "source": [
        "# solution\n",
        "# select CITY,LENGTH(CITY) from STATION order by Length(CITY) asc, CITY limit 1; \n",
        "# select CITY,LENGTH(CITY) from STATION order by Length(CITY) desc, CITY limit 1; "
      ],
      "execution_count": 0,
      "outputs": []
    },
    {
      "cell_type": "markdown",
      "metadata": {
        "id": "B48KmES5043L",
        "colab_type": "text"
      },
      "source": [
        "#### Problem 10\n",
        "\n",
        "Query the list of CITY names starting with vowels (i.e., a, e, i, o, or u) from STATION. Your result cannot contain duplicates.\n",
        "\n",
        "**Input Format**\n",
        "\n",
        "The STATION table is described as follows:\n",
        "\n",
        "| Field | Type |\n",
        "|:----:|:---:|\n",
        "| ID | NUMBER |\n",
        "| CITY | VARCHAR2(21) |\n",
        "| STATE | VARCHAR2(2) |\n",
        "| LAT_N | NUMBER |\n",
        "| LONG_W | NUMBER |\n",
        "\n",
        "where LAT_N is the northern latitude and LONG_W is the western longitude."
      ]
    },
    {
      "cell_type": "code",
      "metadata": {
        "id": "TD-EDOVV05QN",
        "colab_type": "code",
        "colab": {}
      },
      "source": [
        "# solution\n",
        "# select distinct city from station where city regexp '^[aeiou]';"
      ],
      "execution_count": 0,
      "outputs": []
    },
    {
      "cell_type": "markdown",
      "metadata": {
        "id": "GkJCPKpig0GV",
        "colab_type": "text"
      },
      "source": [
        "###PYTHON"
      ]
    },
    {
      "cell_type": "markdown",
      "metadata": {
        "id": "YDQIGBbfg-lo",
        "colab_type": "text"
      },
      "source": [
        "#### Problem 1\n",
        "\n",
        "**Task** \n",
        "Print \"Hello World\" in Python:\n",
        "\n",
        "**Input Format**\n",
        "\n",
        "You do not need any input \n",
        "\n",
        "**Output Format**\n",
        "\n",
        "Hello World"
      ]
    },
    {
      "cell_type": "code",
      "metadata": {
        "id": "v6VtFJQ5jIfl",
        "colab_type": "code",
        "colab": {}
      },
      "source": [
        "print(\"Hello World\")"
      ],
      "execution_count": 0,
      "outputs": []
    },
    {
      "cell_type": "markdown",
      "metadata": {
        "id": "oxUOcSZ0jLjC",
        "colab_type": "text"
      },
      "source": [
        "#### Problem 2\n",
        "\n",
        "**Task** \n",
        "Read two integers from STDIN and print three lines where: \n",
        "1. The first line contains the sum of the two numbers. \n",
        "2.The second line contains the difference of the two numbers (first - second). \n",
        "3.The third line contains the product of the two numbers. \n",
        "\n",
        "**Input Format**\n",
        "\n",
        "The first line contains the first integer, a. The second line contains the second integer, b. \n",
        "\n",
        "**Output Format**\n",
        "\n",
        "Print the three lines as explained above. "
      ]
    },
    {
      "cell_type": "code",
      "metadata": {
        "id": "q_swuIHY4rOP",
        "colab_type": "code",
        "colab": {}
      },
      "source": [
        "# solution\n",
        "# a = int(input())\n",
        "# b = int(input())\n",
        "# print(a + b)\n",
        "# print(a - b)\n",
        "# print(a * b)"
      ],
      "execution_count": 0,
      "outputs": []
    },
    {
      "cell_type": "markdown",
      "metadata": {
        "id": "yfTWqP3m5ApA",
        "colab_type": "text"
      },
      "source": [
        "#### Problem 3\n",
        "\n",
        "**Task**\n",
        "\n",
        "Read two integers and print two lines. The first line should contain integer division, a//b. The second line should contain float division, a/b. \n",
        "You don't need to perform any rounding or formatting operations. \n",
        "\n",
        "**Input Format**\n",
        "\n",
        "The first line contains the first integer, a. The second line contains the second integer, b.\n",
        "\n",
        "**Output Format**\n",
        "\n",
        "Print the two lines as described above. "
      ]
    },
    {
      "cell_type": "code",
      "metadata": {
        "id": "9oBKesh86X9L",
        "colab_type": "code",
        "colab": {}
      },
      "source": [
        "# solution\n",
        "# a = int(input())\n",
        "# b = int(input())\n",
        "# print(a//b)\n",
        "# print(a/b)\n"
      ],
      "execution_count": 0,
      "outputs": []
    },
    {
      "cell_type": "markdown",
      "metadata": {
        "id": "yyRnOK6C66l-",
        "colab_type": "text"
      },
      "source": [
        "#### Problem 4\n",
        "\n",
        "**Task**\n",
        "\n",
        "Read an integer N. For all non-negative integers i < N, print i^2. See the sample for details. \n",
        "\n",
        "**Input Format**\n",
        "\n",
        "The first and only line contains the integer, N.\n",
        "\n",
        "**Output Format**\n",
        "\n",
        "Print N lines, one corresponding to each i."
      ]
    },
    {
      "cell_type": "code",
      "metadata": {
        "id": "j-9aUD0E65OI",
        "colab_type": "code",
        "colab": {}
      },
      "source": [
        "# solution\n",
        "# n = int(input())\n",
        "# for i in range(0, n):\n",
        "#    print(i*i)"
      ],
      "execution_count": 0,
      "outputs": []
    },
    {
      "cell_type": "markdown",
      "metadata": {
        "id": "iUa1LbnS8I6F",
        "colab_type": "text"
      },
      "source": [
        "#### Problem 5\n",
        "\n",
        "**Task**\n",
        "Read an integer N. Without using any string methods, try to print the following: 123..N\n",
        "Note that \"...\" represents the values in between. \n",
        "\n",
        "**Input Format**\n",
        "\n",
        "The first line contains an integer N.\n",
        "\n",
        "**Output Format**\n",
        "\n",
        "Output the answer as explained in the task. "
      ]
    },
    {
      "cell_type": "code",
      "metadata": {
        "id": "SbsjQbKi-Oql",
        "colab_type": "code",
        "colab": {}
      },
      "source": [
        "# solution\n",
        "# n = int(input())\n",
        "# for num in range(1, n+1):\n",
        "#       print(num, end = \"\")"
      ],
      "execution_count": 0,
      "outputs": []
    }
  ]
}